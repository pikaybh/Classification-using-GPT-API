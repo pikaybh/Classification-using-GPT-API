{
 "cells": [
  {
   "attachments": {},
   "cell_type": "markdown",
   "metadata": {},
   "source": [
    "# Test"
   ]
  },
  {
   "attachments": {},
   "cell_type": "markdown",
   "metadata": {},
   "source": [
    "## Import Modules"
   ]
  },
  {
   "cell_type": "code",
   "execution_count": 1,
   "metadata": {},
   "outputs": [],
   "source": [
    "import utils\n",
    "import functions\n",
    "\n",
    "import matplotlib.pyplot as plt\n",
    "# from matplotlib import font_manager, rc\n",
    "import pandas as pd\n",
    "from random import randrange\n",
    "from tqdm import tqdm\n",
    "# import openai\n",
    "import os\n",
    "from time import time\n",
    "from sklearn.metrics import confusion_matrix, ConfusionMatrixDisplay, classification_report, accuracy_score\n",
    "from random import randrange\n",
    "from math import exp\n",
    "from dotenv import load_dotenv\n",
    "\n",
    "# 개인 api key\n",
    "load_dotenv()\n",
    "\n",
    "OPENAI_API_KEY = os.getenv(\"OPENAI_API_KEY\")\n",
    "# openai.api_key = OPENAI_API_KEY\n",
    "\n",
    "m_num = 6\n",
    "\"\"\"\n",
    "- `curie:ft-personal-2023-05-31 08-28-50` : csi 데이터 학습\n",
    "- `curie:ft-personal-2023-06-11 18-10-30` : 總 데이터 사고경위만 학습\n",
    "- `curie:ft-personal-2023-06-12-06-34-37` : 總 데이터 키워드化하여 사고경위와 함께 학습\n",
    "- `curie:ft-personal-2023-07-14-07-12-02` : Structured + Unstructured\n",
    "- `curie:ft-personal-2023-07-15-11-00-14` : Unstructured only\n",
    "- `curie:ft-personal-2023-08-05-23-22-50` : Causes\n",
    "\"\"\"\n",
    "ft_models = {1 : \"curie:ft-personal-2023-05-31 08-28-50\",\n",
    "            2 : \"curie:ft-personal-2023-06-11 18-10-30\",\n",
    "            3 : \"curie:ft-personal-2023-06-12-06-34-37\",\n",
    "            4 : \"curie:ft-personal-2023-07-14-07-12-02\",\n",
    "            5 : \"curie:ft-personal-2023-07-15-11-00-14\",\n",
    "            6 : \"curie:ft-personal-2023-08-05-23-22-50\"}\n",
    "pp_datas = {1 : \"C:/Users/bhyoo/Desktop/Causual Analysis/CSI_DESKTOP_Test/s_filtered_sieben_codex_v3_prepared.jsonl\",\n",
    "            2 : \"C:/Users/bhyoo/Documents/My Projects/Causal Analysis/GPT Fine-tuning/prepocess/prepocessed.jsonl\",\n",
    "            3 : \"C:/Users/bhyoo/Documents/My Projects/Causal Analysis/GPT Fine-tuning/prepocess/prepocessed with keywords.jsonl\",\n",
    "            4 : \"C:/Users/bhyoo/Documents/My Projects/Causal Analysis/GPT Fine-tuning/prepocess/result35.jsonl\",\n",
    "            5 : \"C:/Users/bhyoo/Documents/My Projects/Causal Analysis/GPT Fine-tuning/prepocess/result37.jsonl\",\n",
    "            6 : \"C:/Users/bhyoo/Documents/My Projects/Causal Analysis/GPT Fine-tuning/prepocess/causes.jsonl\"}\n",
    "ft_model = ft_models[m_num]\n",
    "pp_data = pp_datas[m_num]\n",
    "classes = [\"기타\", \n",
    "            \"넘어짐\", \n",
    "            \"부딪힘\", \n",
    "            \"절단, 베임, 찔림\",\n",
    "            \"추락\", \n",
    "            \"협착\"]\n",
    "\n",
    "Model = functions.FineTuneModel(OPENAI_API_KEY, ft_model, classes)"
   ]
  },
  {
   "attachments": {},
   "cell_type": "markdown",
   "metadata": {},
   "source": [
    "## Preparing Dataset"
   ]
  },
  {
   "attachments": {},
   "cell_type": "markdown",
   "metadata": {},
   "source": []
  },
  {
   "cell_type": "code",
   "execution_count": 3,
   "metadata": {},
   "outputs": [
    {
     "name": "stdout",
     "output_type": "stream",
     "text": [
      "Length : 593\n"
     ]
    },
    {
     "data": {
      "text/html": [
       "<div>\n",
       "<style scoped>\n",
       "    .dataframe tbody tr th:only-of-type {\n",
       "        vertical-align: middle;\n",
       "    }\n",
       "\n",
       "    .dataframe tbody tr th {\n",
       "        vertical-align: top;\n",
       "    }\n",
       "\n",
       "    .dataframe thead th {\n",
       "        text-align: right;\n",
       "    }\n",
       "</style>\n",
       "<table border=\"1\" class=\"dataframe\">\n",
       "  <thead>\n",
       "    <tr style=\"text-align: right;\">\n",
       "      <th></th>\n",
       "      <th>Unnamed: 0</th>\n",
       "      <th>completion</th>\n",
       "      <th>prompt</th>\n",
       "    </tr>\n",
       "  </thead>\n",
       "  <tbody>\n",
       "    <tr>\n",
       "      <th>0</th>\n",
       "      <td>3</td>\n",
       "      <td>기타</td>\n",
       "      <td>작업</td>\n",
       "    </tr>\n",
       "    <tr>\n",
       "      <th>1</th>\n",
       "      <td>6</td>\n",
       "      <td>기타</td>\n",
       "      <td>1. 2017년 6월 20일(화) 13:20경\\n2. 204동 전면 지상에서 콘크리...</td>\n",
       "    </tr>\n",
       "    <tr>\n",
       "      <th>2</th>\n",
       "      <td>16</td>\n",
       "      <td>기타</td>\n",
       "      <td>제10호 태풍 '하이선'이 영남지역과 동해안 인근내륙 중</td>\n",
       "    </tr>\n",
       "    <tr>\n",
       "      <th>3</th>\n",
       "      <td>40</td>\n",
       "      <td>기타</td>\n",
       "      <td>배관 Support 자재(“ㄷ” 자 자재, 1,500mm, 약 15kg)를 인력으로...</td>\n",
       "    </tr>\n",
       "    <tr>\n",
       "      <th>4</th>\n",
       "      <td>42</td>\n",
       "      <td>기타</td>\n",
       "      <td>지하 5층에서 타워크레인으로 잉여자재(데크)를 인양 중 자재가 추락하여 작업</td>\n",
       "    </tr>\n",
       "  </tbody>\n",
       "</table>\n",
       "</div>"
      ],
      "text/plain": [
       "   Unnamed: 0 completion                                             prompt\n",
       "0           3         기타                                                작업 \n",
       "1           6         기타  1. 2017년 6월 20일(화) 13:20경\\n2. 204동 전면 지상에서 콘크리...\n",
       "2          16         기타                   제10호 태풍 '하이선'이 영남지역과 동해안 인근내륙 중 \n",
       "3          40         기타  배관 Support 자재(“ㄷ” 자 자재, 1,500mm, 약 15kg)를 인력으로...\n",
       "4          42         기타        지하 5층에서 타워크레인으로 잉여자재(데크)를 인양 중 자재가 추락하여 작업 "
      ]
     },
     "execution_count": 3,
     "metadata": {},
     "output_type": "execute_result"
    }
   ],
   "source": [
    "data_dir = \"C:/Users/bhyoo/Documents/My Projects/Causal Analysis/Preprocessed/\"\n",
    "target_file = data_dir + \"testset/causes_test.xlsx\" \n",
    "prepocess_dir = \"prepocess/\"\n",
    "\n",
    "# %%\n",
    "df = pd.read_excel(target_file)\n",
    "# df.rename(columns = {\"사고경위\" : \"prompt\", \"재해유형\" : \"completion\"}, inplace = True)\n",
    "print(f\"Length : {len(df)}\")\n",
    "df.head()\n"
   ]
  },
  {
   "cell_type": "code",
   "execution_count": 26,
   "metadata": {},
   "outputs": [
    {
     "name": "stdout",
     "output_type": "stream",
     "text": [
      "[row number] 486\n",
      "[prompt] 1층 D/A 형틀제거 완료 후 이동중 작업 \n",
      "\n",
      "###\n",
      "\n",
      "[completion] 추락\n"
     ]
    }
   ],
   "source": [
    "no = randrange(1, 593)\n",
    "# no = 4_333\n",
    "\n",
    "sample_prompt, sample_completion = functions.sample_loader(df, no)\n",
    "\n",
    "print(f\"[row number] {no}\\n[prompt] {sample_prompt}[completion] {sample_completion}\")"
   ]
  },
  {
   "cell_type": "code",
   "execution_count": 27,
   "metadata": {},
   "outputs": [
    {
     "name": "stdout",
     "output_type": "stream",
     "text": [
      "1층 D/A 형틀제거 완료 후 이동중 작업 \n",
      "\n",
      "###\n",
      "\n",
      "\n"
     ]
    }
   ],
   "source": [
    "print(sample_prompt)"
   ]
  },
  {
   "cell_type": "code",
   "execution_count": 28,
   "metadata": {},
   "outputs": [
    {
     "name": "stdout",
     "output_type": "stream",
     "text": [
      "[Prediction] 추락\n",
      "[Probability] 0.6166205352985987\n"
     ]
    }
   ],
   "source": [
    "pred, probs = Model.run(prompt=sample_prompt)\n",
    "print(f\"[Prediction] {pred}\\n[Probability] {probs}\")"
   ]
  },
  {
   "cell_type": "code",
   "execution_count": 25,
   "metadata": {},
   "outputs": [
    {
     "name": "stderr",
     "output_type": "stream",
     "text": [
      "100%|██████████| 593/593 [08:26<00:00,  1.17it/s]\n"
     ]
    },
    {
     "data": {
      "image/png": "[encoded data removed]",
      "text/plain": [
       "<Figure size 640x480 with 2 Axes>"
      ]
     },
     "metadata": {},
     "output_type": "display_data"
    },
    {
     "name": "stdout",
     "output_type": "stream",
     "text": [
      "accuracy : 61.551%\n",
      "classification report : \n",
      "              precision    recall  f1-score   support\n",
      "\n",
      "          기타       0.59      0.53      0.56       104\n",
      "         넘어짐       0.57      0.63      0.60        94\n",
      "         부딪힘       0.64      0.60      0.62        97\n",
      "  절단, 베임, 찔림       0.68      0.67      0.67        99\n",
      "          추락       0.58      0.67      0.62       100\n",
      "          협착       0.65      0.61      0.63        99\n",
      "\n",
      "    accuracy                           0.62       593\n",
      "   macro avg       0.62      0.62      0.62       593\n",
      "weighted avg       0.62      0.62      0.62       593\n",
      "\n",
      "\n"
     ]
    }
   ],
   "source": [
    "\"\"\"\n",
    "NUM = 600\n",
    "test_size = 600\n",
    "num_e = 10\n",
    "\n",
    "# train_set = pd.read_json(pp_datas[m_num], lines=True)\n",
    "# X_train, y_train, X_test, y_test = [], [], [] ,[]\n",
    "\n",
    "L = list()\n",
    "cnt = 0\n",
    "if test_size != -1:\n",
    "    print(f\"[INF] Random Mode : Selecting random elements.\")\n",
    "    while(cnt < test_size):\n",
    "        L.append(randrange(1, NUM))\n",
    "        cnt += 1\n",
    "\n",
    "else:\n",
    "    print(f\"[INF] Even Mode : Selecting {str(num_e)} elements for each classes.\")\n",
    "    while(cnt < len(classes) * num_e):\n",
    "        _n = randrange(1, NUM)\n",
    "        if df.iloc[_n,  df.columns.get_loc('completion')] == classes[cnt // num_e]:\n",
    "            L.append(_n)\n",
    "            cnt += 1\n",
    "\"\"\"\n",
    "plt.rcParams['font.family'] = 'Malgun Gothic'\n",
    "\n",
    "L = df[\"prompt\"].values.tolist()\n",
    "\n",
    "X_test, y_test, predictions = [], [], []\n",
    "start_time = time()\n",
    "for _n in tqdm(range(len(L))):\n",
    "    # _n = randrange(1, NUM)\n",
    "    # X_train.append(train_set['prompt'][_n] + \"\\n\\n###\\n\\n\")\n",
    "    # y_train.append(train_set['completion'][_n])\n",
    "    _x = df.iloc[_n, df.columns.get_loc('prompt')]  # + \"\\n\\n###\\n\\n\"\n",
    "    X_test.append(_x)\n",
    "    y_test.append(df.iloc[_n,  df.columns.get_loc('completion')])\n",
    "    predict, _ = Model.run(prompt=_x)\n",
    "    # print(f\"[True] {df.iloc[_n,  df.columns.get_loc('completion')]} / [Predict] {predict}\")\n",
    "    predictions.append(predict)\n",
    "\n",
    "op_time = time() - start_time\n",
    "\n",
    "cm = confusion_matrix(y_test, predictions, labels=classes)\n",
    "disp = ConfusionMatrixDisplay(confusion_matrix=cm, display_labels=classes)\n",
    "\n",
    "disp.plot()\n",
    "\n",
    "plt.xticks(rotation=45)\n",
    "plt.show()\n",
    "\n",
    "print(f\"accuracy : {(accuracy_score(y_test, predictions))*100:.3f}%\")\n",
    "print(f\"classification report : \\n{classification_report(y_test, predictions)}\\n\")"
   ]
  },
  {
   "cell_type": "code",
   "execution_count": null,
   "metadata": {},
   "outputs": [],
   "source": []
  }
 ],
 "metadata": {
  "kernelspec": {
   "display_name": "py38",
   "language": "python",
   "name": "python3"
  },
  "language_info": {
   "codemirror_mode": {
    "name": "ipython",
    "version": 3
   },
   "file_extension": ".py",
   "mimetype": "text/x-python",
   "name": "python",
   "nbconvert_exporter": "python",
   "pygments_lexer": "ipython3",
   "version": "3.8.16"
  },
  "orig_nbformat": 4
 },
 "nbformat": 4,
 "nbformat_minor": 2
}
